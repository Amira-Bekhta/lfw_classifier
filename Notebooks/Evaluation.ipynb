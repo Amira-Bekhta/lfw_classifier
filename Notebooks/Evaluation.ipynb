{
 "cells": [
  {
   "cell_type": "markdown",
   "metadata": {},
   "source": [
    "# Imports"
   ]
  },
  {
   "cell_type": "code",
   "execution_count": 1,
   "metadata": {},
   "outputs": [],
   "source": [
    "import sys\n",
    "import os\n",
    "\n",
    "sys.path.append(os.path.abspath('../src'))\n",
    "\n",
    "from load_data import load_splits\n",
    "import joblib\n",
    "from sklearn.metrics import accuracy_score"
   ]
  },
  {
   "cell_type": "markdown",
   "metadata": {},
   "source": [
    "# Load the test splits"
   ]
  },
  {
   "cell_type": "code",
   "execution_count": 2,
   "metadata": {},
   "outputs": [],
   "source": [
    "_, X_test, _, y_test = load_splits()"
   ]
  },
  {
   "cell_type": "markdown",
   "metadata": {},
   "source": [
    "# Score the models"
   ]
  },
  {
   "cell_type": "markdown",
   "metadata": {},
   "source": [
    "### Gaussian Naive bayes"
   ]
  },
  {
   "cell_type": "code",
   "execution_count": 3,
   "metadata": {},
   "outputs": [
    {
     "name": "stdout",
     "output_type": "stream",
     "text": [
      "accuracy score: 0.5526315789473685\n"
     ]
    }
   ],
   "source": [
    "GaussianNB = joblib.load(\"../models/model(GaussianNB).pkl\")\n",
    "preds_0 = GaussianNB.predict(X_test)\n",
    "acc_0 = accuracy_score(y_test, preds_0)\n",
    "\n",
    "print(f\"accuracy score: {acc_0}\")"
   ]
  },
  {
   "cell_type": "markdown",
   "metadata": {},
   "source": [
    "### KNN"
   ]
  },
  {
   "cell_type": "code",
   "execution_count": 7,
   "metadata": {},
   "outputs": [
    {
     "name": "stdout",
     "output_type": "stream",
     "text": [
      "accuracy score: 0.631578947368421\n"
     ]
    }
   ],
   "source": [
    "KNN = joblib.load(\"../models/model(KNeighborsClassifier).pkl\")\n",
    "preds_1 = KNN.predict(X_test)\n",
    "acc_1 = accuracy_score(y_test, preds_1)\n",
    "\n",
    "print(f\"accuracy score: {acc_1}\")"
   ]
  },
  {
   "cell_type": "markdown",
   "metadata": {},
   "source": [
    "### SVC"
   ]
  },
  {
   "cell_type": "code",
   "execution_count": 5,
   "metadata": {},
   "outputs": [
    {
     "name": "stdout",
     "output_type": "stream",
     "text": [
      "accuracy score: 0.9298245614035088\n"
     ]
    }
   ],
   "source": [
    "SVC = joblib.load(\"../models/model(SVC).pkl\")\n",
    "preds_2 = SVC.predict(X_test)\n",
    "acc_2 = accuracy_score(y_test, preds_2)\n",
    "\n",
    "print(f\"accuracy score: {acc_2}\")"
   ]
  },
  {
   "cell_type": "markdown",
   "metadata": {},
   "source": [
    "### Deciison tree classifier"
   ]
  },
  {
   "cell_type": "code",
   "execution_count": 6,
   "metadata": {},
   "outputs": [
    {
     "name": "stdout",
     "output_type": "stream",
     "text": [
      "accuracy score: 0.8903508771929824\n"
     ]
    }
   ],
   "source": [
    "DecisionTree = joblib.load(\"../models/model(DecisionTreeClassifier).pkl\")\n",
    "preds_3 = DecisionTree.predict(X_test)\n",
    "acc_3 = accuracy_score(y_test, preds_3)\n",
    "\n",
    "print(f\"accuracy score: {acc_3}\")"
   ]
  },
  {
   "cell_type": "markdown",
   "metadata": {},
   "source": [
    "We can see thet high scores go for SVC and decision tree"
   ]
  }
 ],
 "metadata": {
  "kernelspec": {
   "display_name": ".venv",
   "language": "python",
   "name": "python3"
  },
  "language_info": {
   "codemirror_mode": {
    "name": "ipython",
    "version": 3
   },
   "file_extension": ".py",
   "mimetype": "text/x-python",
   "name": "python",
   "nbconvert_exporter": "python",
   "pygments_lexer": "ipython3",
   "version": "3.13.1"
  }
 },
 "nbformat": 4,
 "nbformat_minor": 2
}
